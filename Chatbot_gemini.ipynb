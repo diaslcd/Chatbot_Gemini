{
  "nbformat": 4,
  "nbformat_minor": 0,
  "metadata": {
    "colab": {
      "provenance": [],
      "authorship_tag": "ABX9TyNxolsnSG/qZMtHEcpnPlZW",
      "include_colab_link": true
    },
    "kernelspec": {
      "name": "python3",
      "display_name": "Python 3"
    },
    "language_info": {
      "name": "python"
    }
  },
  "cells": [
    {
      "cell_type": "markdown",
      "metadata": {
        "id": "view-in-github",
        "colab_type": "text"
      },
      "source": [
        "<a href=\"https://colab.research.google.com/github/diaslcd/Chatbot_Gemini/blob/main/Chatbot_gemini.ipynb\" target=\"_parent\"><img src=\"https://colab.research.google.com/assets/colab-badge.svg\" alt=\"Open In Colab\"/></a>"
      ]
    },
    {
      "cell_type": "markdown",
      "source": [
        "Intalando o SDK do Google"
      ],
      "metadata": {
        "id": "eomOSGuGn1co"
      }
    },
    {
      "cell_type": "code",
      "execution_count": 3,
      "metadata": {
        "id": "_cxVJhtfVR3V"
      },
      "outputs": [],
      "source": [
        "!pip install -q -U google-generativeai"
      ]
    },
    {
      "cell_type": "markdown",
      "source": [
        "Linka a Gemini ao codigo"
      ],
      "metadata": {
        "id": "oqfas7gPow2I"
      }
    },
    {
      "cell_type": "code",
      "source": [
        "import google.generativeai as genai\n",
        "\n",
        "GOOGLE_API_KEY=\"Coloque a API-KEY\"\n",
        "genai.configure(api_key=GOOGLE_API_KEY)"
      ],
      "metadata": {
        "id": "e-7rEMAOoIiI"
      },
      "execution_count": 2,
      "outputs": []
    },
    {
      "cell_type": "markdown",
      "source": [
        "Configurações de Modelo do Gemini"
      ],
      "metadata": {
        "id": "x3KaEGObsvbR"
      }
    },
    {
      "cell_type": "code",
      "source": [
        "for m in genai.list_models():\n",
        "  if 'generateContent' in m.supported_generation_methods:\n",
        "    print(m.name)"
      ],
      "metadata": {
        "id": "Y7HG7cjGpBK9"
      },
      "execution_count": null,
      "outputs": []
    },
    {
      "cell_type": "markdown",
      "source": [
        "Configurações da IA"
      ],
      "metadata": {
        "id": "QyovwoxYsoog"
      }
    },
    {
      "cell_type": "code",
      "source": [
        "generaion_config = {\n",
        "    \"candidate_count\": 1,\n",
        "    \"temperature\": 0.5,\n",
        "}"
      ],
      "metadata": {
        "id": "G9rw1bjrrkUD"
      },
      "execution_count": 6,
      "outputs": []
    },
    {
      "cell_type": "markdown",
      "source": [
        "Mostra o nível de segurança para conteúdos mais sensível (no caso, está tudo liberado)"
      ],
      "metadata": {
        "id": "ziEa-8KJtZ3Z"
      }
    },
    {
      "cell_type": "code",
      "source": [
        "safety_settings = {\n",
        "    \"HARASSMENT\": \"BLOCK_NONE\",\n",
        "    \"HATE\": \"BLOCK_NONE\",\n",
        "    \"SEXUAL\": \"BLOCK_NONE\",\n",
        "    \"DANGEROUS\": \"BLOCK_NONE\",\n",
        "}"
      ],
      "metadata": {
        "id": "qZT21kRQsDBv"
      },
      "execution_count": 7,
      "outputs": []
    },
    {
      "cell_type": "markdown",
      "source": [
        "Inicializando o Modelo"
      ],
      "metadata": {
        "id": "ZKjgRY_nu5NL"
      }
    },
    {
      "cell_type": "code",
      "source": [
        "model = genai.GenerativeModel(model_name=\"gemini-1.0-pro\",\n",
        "                              generation_config = generaion_config,\n",
        "                              safety_settings = safety_settings)"
      ],
      "metadata": {
        "id": "wj2yhH_zs4os"
      },
      "execution_count": 8,
      "outputs": []
    },
    {
      "cell_type": "markdown",
      "source": [
        "Linha de codigo para fazer a pergunta para a IA\n"
      ],
      "metadata": {
        "id": "e0mRGB3pvurk"
      }
    },
    {
      "cell_type": "code",
      "source": [
        "response = model.generate_content(\"Fale raças de cachorros.\")\n",
        "print(response.text)"
      ],
      "metadata": {
        "colab": {
          "base_uri": "https://localhost:8080/",
          "height": 1000
        },
        "id": "dihnLSVSu7xv",
        "outputId": "17fd3976-97fe-4466-b6bc-073bfe4c265a"
      },
      "execution_count": 12,
      "outputs": [
        {
          "output_type": "stream",
          "name": "stdout",
          "text": [
            "**Raças de Cães do Grupo Esportivo**\n",
            "\n",
            "* Golden Retriever\n",
            "* Labrador Retriever\n",
            "* Pointer Inglês\n",
            "* Setter Irlandês\n",
            "* Weimaraner\n",
            "\n",
            "**Raças de Cães do Grupo de Trabalho**\n",
            "\n",
            "* Doberman Pinscher\n",
            "* Rottweiler\n",
            "* Pastor Alemão\n",
            "* Boxer\n",
            "* São Bernardo\n",
            "\n",
            "**Raças de Cães do Grupo Terrier**\n",
            "\n",
            "* Yorkshire Terrier\n",
            "* Jack Russell Terrier\n",
            "* Fox Terrier\n",
            "* Schnauzer\n",
            "* Bull Terrier\n",
            "\n",
            "**Raças de Cães do Grupo Toy**\n",
            "\n",
            "* Chihuahua\n",
            "* Yorkshire Terrier\n",
            "* Maltês\n",
            "* Poodle Toy\n",
            "* Cavalier King Charles Spaniel\n",
            "\n",
            "**Raças de Cães do Grupo Não Esportivo**\n",
            "\n",
            "* Bulldog\n",
            "* Shar-Pei\n",
            "* Chow Chow\n",
            "* Shiba Inu\n",
            "* Dalmata\n",
            "\n",
            "**Raças de Cães do Grupo Pastor**\n",
            "\n",
            "* Border Collie\n",
            "* Pastor Australiano\n",
            "* Pastor de Shetland\n",
            "* Corgi\n",
            "* Collie\n",
            "\n",
            "**Raças de Cães do Grupo Hound**\n",
            "\n",
            "* Beagle\n",
            "* Dachshund\n",
            "* Basset Hound\n",
            "* Bloodhound\n",
            "* Greyhound\n",
            "\n",
            "**Outras Raças Populares**\n",
            "\n",
            "* Poodle\n",
            "* Bulldog Francês\n",
            "* Husky Siberiano\n",
            "* Golden Doodle\n",
            "* Bernese Mountain Dog\n"
          ]
        }
      ]
    },
    {
      "cell_type": "markdown",
      "source": [
        "Criando variável de CHATBOT"
      ],
      "metadata": {
        "id": "Ht45hosKwNih"
      }
    },
    {
      "cell_type": "code",
      "source": [
        "chat = model.start_chat(history=[])"
      ],
      "metadata": {
        "id": "TZPxBnBYvs1x"
      },
      "execution_count": 10,
      "outputs": []
    },
    {
      "cell_type": "markdown",
      "source": [
        "Codigo onde é possivel interagir com um chatbot\n"
      ],
      "metadata": {
        "id": "mJbclTFDzVRN"
      }
    },
    {
      "cell_type": "code",
      "source": [
        "# Prompt é onde você escreve a pergunta\n",
        "# E digite FIM para encerrar a conversa\n",
        "\n",
        "prompt = input(\"Prompt: \")\n",
        "\n",
        "while prompt != \"fim\":\n",
        "  response = chat.send_message(prompt)\n",
        "  print(\"Resposta: \", response.text, \"\\n\")\n",
        "  prompt = input(\"Prompt: \")"
      ],
      "metadata": {
        "id": "tKO5PpwxwSz-"
      },
      "execution_count": null,
      "outputs": []
    },
    {
      "cell_type": "markdown",
      "source": [
        "Deixa mais bonito a conversa com o CHATBOT"
      ],
      "metadata": {
        "id": "44S2AkIC4rJ6"
      }
    },
    {
      "cell_type": "code",
      "source": [
        "import textwrap\n",
        "from IPython.display import display\n",
        "from IPython.display import Markdown\n",
        "\n",
        "def to_markdown(text):\n",
        "  text = text.replace('•', ' *')\n",
        "  return Markdown(textwrap.indent(text, '> ', predicate=lambda _: True))\n",
        "\n",
        "\n",
        "for message in chat.history:\n",
        "  display(to_markdown(f'**{message.role}**: {message.parts[0].text}'))\n",
        "  print('-------------------------------------------')"
      ],
      "metadata": {
        "id": "UC4mNb_Azb7B"
      },
      "execution_count": null,
      "outputs": []
    }
  ]
}